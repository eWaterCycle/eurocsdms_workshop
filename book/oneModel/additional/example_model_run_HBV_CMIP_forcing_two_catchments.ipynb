{
 "cells": [
  {
   "cell_type": "markdown",
   "id": "e9cd8d85-eb4a-45d6-925a-e3e770592043",
   "metadata": {},
   "source": [
    "# Climate Change impact for River Leven at Newby Bridge using HBV model in eWaterCycle\n",
    "This is a copy of [this notebook](../example_model_run_HBV.ipynb) that showed how to run the HBV model for the river Leven using ERA5 data as forcing.\n",
    "\n",
    "In this notebook we show how to change the forcing to output of CMIP models. All explaining text has been removed, apart from where it involves the CMIP data and the changes required. For any explenation on the remaining code, see the previous notebook.\n",
    "\n",
    "However, do have a look again at the weir at Newby Bridge. How would this place look under the different climate scenarios? Lets find out!\n",
    "\n",
    "![image](https://upload.wikimedia.org/wikipedia/commons/7/76/Weirs_on_the_River_Leven_at_Newby_Bridge_-_geograph.org.uk_-_5455774.jpg)\n",
    "\n",
    "*Weirs on the River Leven at Newby Bridge by G Laird*"
   ]
  },
  {
   "cell_type": "markdown",
   "id": "e73ddde7-bde3-42e8-991a-8edd4825fd78",
   "metadata": {},
   "source": [
    "#### Starting up"
   ]
  },
  {
   "cell_type": "code",
   "execution_count": 1,
   "id": "ec7e710a-5aa4-40f9-a1cb-151e3cddbe04",
   "metadata": {
    "ExecuteTime": {
     "end_time": "2024-03-07T14:21:32.492461800Z",
     "start_time": "2024-03-07T14:21:31.890843300Z"
    }
   },
   "outputs": [],
   "source": [
    "# general python\n",
    "import warnings\n",
    "warnings.filterwarnings(\"ignore\", category=UserWarning)\n",
    "\n",
    "import numpy as np\n",
    "from pathlib import Path\n",
    "import pandas as pd\n",
    "import matplotlib.pyplot as plt\n",
    "import xarray as xr\n",
    "\n",
    "#niceties\n",
    "from rich import print"
   ]
  },
  {
   "cell_type": "code",
   "execution_count": 2,
   "id": "4569a0f2-4bea-48cc-b5a4-ca5384e368c6",
   "metadata": {
    "ExecuteTime": {
     "end_time": "2024-03-07T14:21:34.475126400Z",
     "start_time": "2024-03-07T14:21:32.537461400Z"
    }
   },
   "outputs": [],
   "source": [
    "# general eWaterCycle\n",
    "import ewatercycle\n",
    "import ewatercycle.models\n",
    "import ewatercycle.forcing"
   ]
  },
  {
   "cell_type": "markdown",
   "id": "28ecd862-3e33-4001-9218-d025f6acc2ae",
   "metadata": {},
   "source": [
    "# Choose region and time period: \n",
    "Of course we need to change the time period to some future period covered by CMIP"
   ]
  },
  {
   "cell_type": "code",
   "execution_count": 3,
   "id": "a5898939-54a6-40de-8a27-bbc793536248",
   "metadata": {},
   "outputs": [],
   "source": [
    "camelsgb_ids = [\"camelsgb_47001\", \"camelsgb_73010\"]"
   ]
  },
  {
   "cell_type": "code",
   "execution_count": 4,
   "id": "03aea008-87ce-4d09-8d01-f12dfe6bb116",
   "metadata": {
    "ExecuteTime": {
     "end_time": "2024-03-07T14:21:34.567126600Z",
     "start_time": "2024-03-07T14:21:34.567126600Z"
    }
   },
   "outputs": [],
   "source": [
    "historical_start_date = \"1990-08-01T00:00:00Z\"\n",
    "historical_end_date = \"2000-08-31T00:00:00Z\"\n",
    "\n",
    "future_start_date = \"2025-08-01T00:00:00Z\" #the future starts in a year from now...\n",
    "future_end_date = \"2035-08-31T00:00:00Z\""
   ]
  },
  {
   "cell_type": "code",
   "execution_count": 5,
   "id": "06008518-5085-4fbf-ab6d-9d78bf99c2f7",
   "metadata": {},
   "outputs": [],
   "source": [
    "scenarios = [\"ssp126\",\"ssp245\",\"ssp585\"]"
   ]
  },
  {
   "cell_type": "markdown",
   "id": "46fe488a-4dc0-41ba-a2d4-16a7b87b95ad",
   "metadata": {},
   "source": [
    "# CMIP dataset information\n",
    "The CMIP project is immense... It requires either intimate knowledge of how the climate community works and stores their data, or someone in that community a phonecall away, to make sure you know which data you really want.\n",
    "\n",
    "In eWaterCycle we use [ESMValTool](https://esmvaltool.org/) to generate forcing, which gives us the oppertunity to on the fly download CMIP (and other climate) data from available ESGF nodes around the world, provided we know exactly \"how to ask\". As eWaterCycle user you have to provide a dictionary like the one below as input to the ```ewatercycle.forcing.generate()``` to get the data you want."
   ]
  },
  {
   "cell_type": "code",
   "execution_count": 13,
   "id": "e6395412-429f-44a3-8a92-6bde7fced8d3",
   "metadata": {},
   "outputs": [],
   "source": [
    "cmip_dataset_future =  {\n",
    "    'project': 'CMIP6',\n",
    "    'activity': 'ScenarioMIP',\n",
    "    'exp': 'ssp585',\n",
    "    'mip': 'day',\n",
    "    'dataset': 'MPI-ESM1-2-HR',\n",
    "    'ensemble': 'r1i1p1f1',\n",
    "    'institute': 'DKRZ',\n",
    "    'grid': 'gn'\n",
    "}\n",
    "\n",
    "cmip_dataset_historical =  {\n",
    "    \"dataset\": \"MPI-ESM1-2-LR\",\n",
    "    \"project\": \"CMIP6\",\n",
    "    \"grid\": \"gn\",\n",
    "    \"exp\": \"historical\",\n",
    "    \"ensemble\": \"r3i1p1f1\"\n",
    "}"
   ]
  },
  {
   "cell_type": "markdown",
   "id": "111bc65b-8299-43ba-95fd-e92df6b92707",
   "metadata": {},
   "source": [
    "#### Set up paths\n",
    "Below we change the forcing path from ERA5 to CMIP"
   ]
  },
  {
   "cell_type": "code",
   "execution_count": 7,
   "id": "eb5ed837-14aa-4629-b589-ffc33c24ba84",
   "metadata": {},
   "outputs": [],
   "source": [
    "forcing_path_caravan = {}\n",
    "forcing_path_CMIP_historical = {}\n",
    "forcing_path_CMIP_scenarios = {}\n",
    "\n",
    "for camelsgb_id in camelsgb_ids:\n",
    "    forcing_path_caravan[camelsgb_id] = Path.home() / \"forcing\" / camelsgb_id / \"caravan\"\n",
    "    forcing_path_caravan[camelsgb_id].mkdir(exist_ok=True, parents=True)\n",
    "    \n",
    "    prepared_forcing_path_caravan_central = Path(\"/data/eurocsdms-data/forcing/camelsgb_73010/caravan\")\n",
    "\n",
    "    forcing_path_CMIP = Path.home() / \"forcing\" / camelsgb_id / \"CMIP\"\n",
    "    forcing_path_CMIP.mkdir(exist_ok=True)\n",
    "    \n",
    "    forcing_path_CMIP_historical[camelsgb_id] = Path.home() / \"forcing\" / camelsgb_id / \"CMIP\" / \"historical\"\n",
    "    forcing_path_CMIP_historical[camelsgb_id].mkdir(exist_ok=True)\n",
    "    \n",
    "    forcing_path_CMIP_scenarios[camelsgb_id] = {}\n",
    "    for scenario in scenarios:\n",
    "        forcing_path_CMIP_scenarios[camelsgb_id][scenario] = Path.home() / \"forcing\" / camelsgb_id / \"CMIP\" / scenario\n",
    "        forcing_path_CMIP_scenarios[camelsgb_id][scenario].mkdir(exist_ok=True)\n",
    "    \n",
    "#prepared_forcing_path_ERA5_central = Path(\"/data/eurocsdms-data/forcing/camelsgb_73010/ERA5\")"
   ]
  },
  {
   "cell_type": "markdown",
   "id": "1171ca7e-d26a-4cbe-abb0-d741315a708c",
   "metadata": {},
   "source": [
    "# Generate CMIP Forcing\n",
    "In contrast to the first notebook, here we generate the CMIP data (since that is what this notebook is about). Note that the only thing that changes from the ERA5 forcing of the previous notebook is that instead of ```dataset = \"ERA5\"``` we now pass the dictionary with CMIP information: ```dataset = cmip_dataset```"
   ]
  },
  {
   "cell_type": "code",
   "execution_count": 9,
   "id": "19641ae0",
   "metadata": {},
   "outputs": [],
   "source": [
    "# option one: get camels GB data for shapefile and for observation data.\n",
    "camelsgb_forcing = {}\n",
    "for camelsgb_id in camelsgb_ids:\n",
    "    camelsgb_forcing[camelsgb_id] = ewatercycle.forcing.sources['CaravanForcing'].generate(\n",
    "        start_time=historical_start_date,\n",
    "        end_time=historical_end_date,\n",
    "        directory=forcing_path_caravan[camelsgb_id],\n",
    "        basin_id=camelsgb_id,\n",
    "    )"
   ]
  },
  {
   "cell_type": "code",
   "execution_count": 10,
   "id": "2b696cee-5dbe-40de-bafb-6346f6265ff3",
   "metadata": {},
   "outputs": [
    {
     "data": {
      "text/html": [
       "<pre style=\"white-space:pre;overflow-x:auto;line-height:normal;font-family:Menlo,'DejaVu Sans Mono',consolas,'Courier New',monospace\"><span style=\"color: #800080; text-decoration-color: #800080; font-weight: bold\">CaravanForcing</span><span style=\"font-weight: bold\">(</span>\n",
       "    <span style=\"color: #808000; text-decoration-color: #808000\">start_time</span>=<span style=\"color: #008000; text-decoration-color: #008000\">'1990-08-01T00:00:00Z'</span>,\n",
       "    <span style=\"color: #808000; text-decoration-color: #808000\">end_time</span>=<span style=\"color: #008000; text-decoration-color: #008000\">'2000-08-31T00:00:00Z'</span>,\n",
       "    <span style=\"color: #808000; text-decoration-color: #808000\">directory</span>=<span style=\"color: #800080; text-decoration-color: #800080; font-weight: bold\">PosixPath</span><span style=\"font-weight: bold\">(</span><span style=\"color: #008000; text-decoration-color: #008000\">'/home/rhut/forcing/camelsgb_73010/caravan'</span><span style=\"font-weight: bold\">)</span>,\n",
       "    <span style=\"color: #808000; text-decoration-color: #808000\">shape</span>=<span style=\"color: #800080; text-decoration-color: #800080; font-weight: bold\">PosixPath</span><span style=\"font-weight: bold\">(</span><span style=\"color: #008000; text-decoration-color: #008000\">'/home/rhut/forcing/camelsgb_73010/caravan/camelsgb_73010.shp'</span><span style=\"font-weight: bold\">)</span>,\n",
       "    <span style=\"color: #808000; text-decoration-color: #808000\">filenames</span>=<span style=\"font-weight: bold\">{</span>\n",
       "        <span style=\"color: #008000; text-decoration-color: #008000\">'Q'</span>: <span style=\"color: #008000; text-decoration-color: #008000\">'camelsgb_73010_1990-08-01_2000-08-31_Q.nc'</span>,\n",
       "        <span style=\"color: #008000; text-decoration-color: #008000\">'tasmax'</span>: <span style=\"color: #008000; text-decoration-color: #008000\">'camelsgb_73010_1990-08-01_2000-08-31_tasmax.nc'</span>,\n",
       "        <span style=\"color: #008000; text-decoration-color: #008000\">'tas'</span>: <span style=\"color: #008000; text-decoration-color: #008000\">'camelsgb_73010_1990-08-01_2000-08-31_tas.nc'</span>,\n",
       "        <span style=\"color: #008000; text-decoration-color: #008000\">'evspsblpot'</span>: <span style=\"color: #008000; text-decoration-color: #008000\">'camelsgb_73010_1990-08-01_2000-08-31_evspsblpot.nc'</span>,\n",
       "        <span style=\"color: #008000; text-decoration-color: #008000\">'pr'</span>: <span style=\"color: #008000; text-decoration-color: #008000\">'camelsgb_73010_1990-08-01_2000-08-31_pr.nc'</span>,\n",
       "        <span style=\"color: #008000; text-decoration-color: #008000\">'tasmin'</span>: <span style=\"color: #008000; text-decoration-color: #008000\">'camelsgb_73010_1990-08-01_2000-08-31_tasmin.nc'</span>\n",
       "    <span style=\"font-weight: bold\">}</span>\n",
       "<span style=\"font-weight: bold\">)</span>\n",
       "</pre>\n"
      ],
      "text/plain": [
       "\u001b[1;35mCaravanForcing\u001b[0m\u001b[1m(\u001b[0m\n",
       "    \u001b[33mstart_time\u001b[0m=\u001b[32m'1990-08-01T00:00:00Z'\u001b[0m,\n",
       "    \u001b[33mend_time\u001b[0m=\u001b[32m'2000-08-31T00:00:00Z'\u001b[0m,\n",
       "    \u001b[33mdirectory\u001b[0m=\u001b[1;35mPosixPath\u001b[0m\u001b[1m(\u001b[0m\u001b[32m'/home/rhut/forcing/camelsgb_73010/caravan'\u001b[0m\u001b[1m)\u001b[0m,\n",
       "    \u001b[33mshape\u001b[0m=\u001b[1;35mPosixPath\u001b[0m\u001b[1m(\u001b[0m\u001b[32m'/home/rhut/forcing/camelsgb_73010/caravan/camelsgb_73010.shp'\u001b[0m\u001b[1m)\u001b[0m,\n",
       "    \u001b[33mfilenames\u001b[0m=\u001b[1m{\u001b[0m\n",
       "        \u001b[32m'Q'\u001b[0m: \u001b[32m'camelsgb_73010_1990-08-01_2000-08-31_Q.nc'\u001b[0m,\n",
       "        \u001b[32m'tasmax'\u001b[0m: \u001b[32m'camelsgb_73010_1990-08-01_2000-08-31_tasmax.nc'\u001b[0m,\n",
       "        \u001b[32m'tas'\u001b[0m: \u001b[32m'camelsgb_73010_1990-08-01_2000-08-31_tas.nc'\u001b[0m,\n",
       "        \u001b[32m'evspsblpot'\u001b[0m: \u001b[32m'camelsgb_73010_1990-08-01_2000-08-31_evspsblpot.nc'\u001b[0m,\n",
       "        \u001b[32m'pr'\u001b[0m: \u001b[32m'camelsgb_73010_1990-08-01_2000-08-31_pr.nc'\u001b[0m,\n",
       "        \u001b[32m'tasmin'\u001b[0m: \u001b[32m'camelsgb_73010_1990-08-01_2000-08-31_tasmin.nc'\u001b[0m\n",
       "    \u001b[1m}\u001b[0m\n",
       "\u001b[1m)\u001b[0m\n"
      ]
     },
     "metadata": {},
     "output_type": "display_data"
    }
   ],
   "source": [
    "print(camelsgb_forcing[camelsgb_id])"
   ]
  },
  {
   "cell_type": "code",
   "execution_count": 14,
   "id": "663be219-1329-4621-8950-b5ef7dde9506",
   "metadata": {},
   "outputs": [],
   "source": [
    "# option one: generate forcing:\n",
    "CMIP_historical_forcing = {}\n",
    "for camelsgb_id in camelsgb_ids:\n",
    "    CMIP_historical_forcing[camelsgb_id] = ewatercycle.forcing.sources[\"LumpedMakkinkForcing\"].generate(\n",
    "       dataset=cmip_dataset_historical,\n",
    "       start_time=historical_start_date,\n",
    "       end_time=historical_end_date,\n",
    "       directory=forcing_path_CMIP_historical[camelsgb_id],\n",
    "       shape=camelsgb_forcing[camelsgb_id].shape,\n",
    "    )\n",
    "\n",
    "# # option two: load data that you or someone else generated previously\n",
    "# #   this is needed because ERA5 forcing data is stored deep in a sub-directory\n",
    "# load_location = prepared_forcing_path_ERA5_central / \"work\" / \"diagnostic\" / \"script\" \n",
    "# ERA5_forcing = ewatercycle.forcing.sources[\"LumpedMakkinkForcing\"].load(directory=load_location)"
   ]
  },
  {
   "cell_type": "code",
   "execution_count": 18,
   "id": "57a24ff5-c0ea-40b9-96a9-7afe53dcfb0f",
   "metadata": {},
   "outputs": [],
   "source": [
    "CMIP_future_forcing = {}\n",
    "for camelsgb_id in camelsgb_ids:\n",
    "    CMIP_future_forcing[camelsgb_id] = {}\n",
    "    for scenario in scenarios:\n",
    "        cmip_dataset_future['exp'] = scenario\n",
    "        CMIP_future_forcing[scenario] = {}\n",
    "\n",
    "        CMIP_future_forcing[camelsgb_id][scenario] = ewatercycle.forcing.sources[\"LumpedMakkinkForcing\"].generate(\n",
    "           dataset=cmip_dataset_future,\n",
    "           start_time=future_start_date,\n",
    "           end_time=future_end_date,\n",
    "           directory=forcing_path_CMIP_scenarios[camelsgb_id][scenario],\n",
    "           shape=camelsgb_forcing[camelsgb_id].shape,\n",
    "        )\n"
   ]
  },
  {
   "cell_type": "markdown",
   "id": "4787c692-3f9c-402b-9b48-93daeeb47926",
   "metadata": {},
   "source": [
    "# Load parameters from calibration\n",
    "Note that we have to use historic calibration constants for future runs: we don't have observations yet!!"
   ]
  },
  {
   "cell_type": "code",
   "execution_count": 19,
   "id": "ed960ab6-b63a-4664-8306-b57c2ecf27ec",
   "metadata": {
    "ExecuteTime": {
     "end_time": "2024-03-07T14:21:34.528887900Z",
     "start_time": "2024-03-07T14:21:34.501125300Z"
    }
   },
   "outputs": [
    {
     "ename": "FileNotFoundError",
     "evalue": "/home/rhut/configFiles/calibrationcamelsgb_47001.csv not found.",
     "output_type": "error",
     "traceback": [
      "\u001b[0;31m---------------------------------------------------------------------------\u001b[0m",
      "\u001b[0;31mFileNotFoundError\u001b[0m                         Traceback (most recent call last)",
      "Cell \u001b[0;32mIn[19], line 5\u001b[0m\n\u001b[1;32m      3\u001b[0m par_0 \u001b[38;5;241m=\u001b[39m {}\n\u001b[1;32m      4\u001b[0m \u001b[38;5;28;01mfor\u001b[39;00m camelsgb_id \u001b[38;5;129;01min\u001b[39;00m camelsgb_ids:\n\u001b[0;32m----> 5\u001b[0m     par_0[camelsgb_id] \u001b[38;5;241m=\u001b[39m \u001b[43mnp\u001b[49m\u001b[38;5;241;43m.\u001b[39;49m\u001b[43mloadtxt\u001b[49m\u001b[43m(\u001b[49m\u001b[38;5;124;43m\"\u001b[39;49m\u001b[38;5;124;43m/home/rhut/configFiles/calibration\u001b[39;49m\u001b[38;5;124;43m\"\u001b[39;49m\u001b[43m \u001b[49m\u001b[38;5;241;43m+\u001b[39;49m\u001b[43m \u001b[49m\u001b[43mcamelsgb_id\u001b[49m\u001b[43m \u001b[49m\u001b[38;5;241;43m+\u001b[39;49m\u001b[43m \u001b[49m\u001b[38;5;124;43m\"\u001b[39;49m\u001b[38;5;124;43m.csv\u001b[39;49m\u001b[38;5;124;43m\"\u001b[39;49m\u001b[43m,\u001b[49m\u001b[43m \u001b[49m\u001b[43mdelimiter\u001b[49m\u001b[43m \u001b[49m\u001b[38;5;241;43m=\u001b[39;49m\u001b[43m \u001b[49m\u001b[38;5;124;43m\"\u001b[39;49m\u001b[38;5;124;43m,\u001b[39;49m\u001b[38;5;124;43m\"\u001b[39;49m\u001b[43m)\u001b[49m\n\u001b[1;32m      7\u001b[0m param_names \u001b[38;5;241m=\u001b[39m [\u001b[38;5;124m\"\u001b[39m\u001b[38;5;124mImax\u001b[39m\u001b[38;5;124m\"\u001b[39m, \u001b[38;5;124m\"\u001b[39m\u001b[38;5;124mCe\u001b[39m\u001b[38;5;124m\"\u001b[39m, \u001b[38;5;124m\"\u001b[39m\u001b[38;5;124mSumax\u001b[39m\u001b[38;5;124m\"\u001b[39m, \u001b[38;5;124m\"\u001b[39m\u001b[38;5;124mBeta\u001b[39m\u001b[38;5;124m\"\u001b[39m, \u001b[38;5;124m\"\u001b[39m\u001b[38;5;124mPmax\u001b[39m\u001b[38;5;124m\"\u001b[39m, \u001b[38;5;124m\"\u001b[39m\u001b[38;5;124mTlag\u001b[39m\u001b[38;5;124m\"\u001b[39m, \u001b[38;5;124m\"\u001b[39m\u001b[38;5;124mKf\u001b[39m\u001b[38;5;124m\"\u001b[39m, \u001b[38;5;124m\"\u001b[39m\u001b[38;5;124mKs\u001b[39m\u001b[38;5;124m\"\u001b[39m, \u001b[38;5;124m\"\u001b[39m\u001b[38;5;124mFM\u001b[39m\u001b[38;5;124m\"\u001b[39m]\n\u001b[1;32m      8\u001b[0m \u001b[38;5;28mprint\u001b[39m(\u001b[38;5;28mlist\u001b[39m(\u001b[38;5;28mzip\u001b[39m(param_names, np\u001b[38;5;241m.\u001b[39mround(par_0[camelsgb_id], decimals\u001b[38;5;241m=\u001b[39m\u001b[38;5;241m3\u001b[39m))))\n",
      "File \u001b[0;32m/opt/conda/envs/ewatercycle2/lib/python3.12/site-packages/numpy/lib/npyio.py:1373\u001b[0m, in \u001b[0;36mloadtxt\u001b[0;34m(fname, dtype, comments, delimiter, converters, skiprows, usecols, unpack, ndmin, encoding, max_rows, quotechar, like)\u001b[0m\n\u001b[1;32m   1370\u001b[0m \u001b[38;5;28;01mif\u001b[39;00m \u001b[38;5;28misinstance\u001b[39m(delimiter, \u001b[38;5;28mbytes\u001b[39m):\n\u001b[1;32m   1371\u001b[0m     delimiter \u001b[38;5;241m=\u001b[39m delimiter\u001b[38;5;241m.\u001b[39mdecode(\u001b[38;5;124m'\u001b[39m\u001b[38;5;124mlatin1\u001b[39m\u001b[38;5;124m'\u001b[39m)\n\u001b[0;32m-> 1373\u001b[0m arr \u001b[38;5;241m=\u001b[39m \u001b[43m_read\u001b[49m\u001b[43m(\u001b[49m\u001b[43mfname\u001b[49m\u001b[43m,\u001b[49m\u001b[43m \u001b[49m\u001b[43mdtype\u001b[49m\u001b[38;5;241;43m=\u001b[39;49m\u001b[43mdtype\u001b[49m\u001b[43m,\u001b[49m\u001b[43m \u001b[49m\u001b[43mcomment\u001b[49m\u001b[38;5;241;43m=\u001b[39;49m\u001b[43mcomment\u001b[49m\u001b[43m,\u001b[49m\u001b[43m \u001b[49m\u001b[43mdelimiter\u001b[49m\u001b[38;5;241;43m=\u001b[39;49m\u001b[43mdelimiter\u001b[49m\u001b[43m,\u001b[49m\n\u001b[1;32m   1374\u001b[0m \u001b[43m            \u001b[49m\u001b[43mconverters\u001b[49m\u001b[38;5;241;43m=\u001b[39;49m\u001b[43mconverters\u001b[49m\u001b[43m,\u001b[49m\u001b[43m \u001b[49m\u001b[43mskiplines\u001b[49m\u001b[38;5;241;43m=\u001b[39;49m\u001b[43mskiprows\u001b[49m\u001b[43m,\u001b[49m\u001b[43m \u001b[49m\u001b[43musecols\u001b[49m\u001b[38;5;241;43m=\u001b[39;49m\u001b[43musecols\u001b[49m\u001b[43m,\u001b[49m\n\u001b[1;32m   1375\u001b[0m \u001b[43m            \u001b[49m\u001b[43munpack\u001b[49m\u001b[38;5;241;43m=\u001b[39;49m\u001b[43munpack\u001b[49m\u001b[43m,\u001b[49m\u001b[43m \u001b[49m\u001b[43mndmin\u001b[49m\u001b[38;5;241;43m=\u001b[39;49m\u001b[43mndmin\u001b[49m\u001b[43m,\u001b[49m\u001b[43m \u001b[49m\u001b[43mencoding\u001b[49m\u001b[38;5;241;43m=\u001b[39;49m\u001b[43mencoding\u001b[49m\u001b[43m,\u001b[49m\n\u001b[1;32m   1376\u001b[0m \u001b[43m            \u001b[49m\u001b[43mmax_rows\u001b[49m\u001b[38;5;241;43m=\u001b[39;49m\u001b[43mmax_rows\u001b[49m\u001b[43m,\u001b[49m\u001b[43m \u001b[49m\u001b[43mquote\u001b[49m\u001b[38;5;241;43m=\u001b[39;49m\u001b[43mquotechar\u001b[49m\u001b[43m)\u001b[49m\n\u001b[1;32m   1378\u001b[0m \u001b[38;5;28;01mreturn\u001b[39;00m arr\n",
      "File \u001b[0;32m/opt/conda/envs/ewatercycle2/lib/python3.12/site-packages/numpy/lib/npyio.py:992\u001b[0m, in \u001b[0;36m_read\u001b[0;34m(fname, delimiter, comment, quote, imaginary_unit, usecols, skiplines, max_rows, converters, ndmin, unpack, dtype, encoding)\u001b[0m\n\u001b[1;32m    990\u001b[0m     fname \u001b[38;5;241m=\u001b[39m os\u001b[38;5;241m.\u001b[39mfspath(fname)\n\u001b[1;32m    991\u001b[0m \u001b[38;5;28;01mif\u001b[39;00m \u001b[38;5;28misinstance\u001b[39m(fname, \u001b[38;5;28mstr\u001b[39m):\n\u001b[0;32m--> 992\u001b[0m     fh \u001b[38;5;241m=\u001b[39m \u001b[43mnp\u001b[49m\u001b[38;5;241;43m.\u001b[39;49m\u001b[43mlib\u001b[49m\u001b[38;5;241;43m.\u001b[39;49m\u001b[43m_datasource\u001b[49m\u001b[38;5;241;43m.\u001b[39;49m\u001b[43mopen\u001b[49m\u001b[43m(\u001b[49m\u001b[43mfname\u001b[49m\u001b[43m,\u001b[49m\u001b[43m \u001b[49m\u001b[38;5;124;43m'\u001b[39;49m\u001b[38;5;124;43mrt\u001b[39;49m\u001b[38;5;124;43m'\u001b[39;49m\u001b[43m,\u001b[49m\u001b[43m \u001b[49m\u001b[43mencoding\u001b[49m\u001b[38;5;241;43m=\u001b[39;49m\u001b[43mencoding\u001b[49m\u001b[43m)\u001b[49m\n\u001b[1;32m    993\u001b[0m     \u001b[38;5;28;01mif\u001b[39;00m encoding \u001b[38;5;129;01mis\u001b[39;00m \u001b[38;5;28;01mNone\u001b[39;00m:\n\u001b[1;32m    994\u001b[0m         encoding \u001b[38;5;241m=\u001b[39m \u001b[38;5;28mgetattr\u001b[39m(fh, \u001b[38;5;124m'\u001b[39m\u001b[38;5;124mencoding\u001b[39m\u001b[38;5;124m'\u001b[39m, \u001b[38;5;124m'\u001b[39m\u001b[38;5;124mlatin1\u001b[39m\u001b[38;5;124m'\u001b[39m)\n",
      "File \u001b[0;32m/opt/conda/envs/ewatercycle2/lib/python3.12/site-packages/numpy/lib/_datasource.py:193\u001b[0m, in \u001b[0;36mopen\u001b[0;34m(path, mode, destpath, encoding, newline)\u001b[0m\n\u001b[1;32m    156\u001b[0m \u001b[38;5;250m\u001b[39m\u001b[38;5;124;03m\"\"\"\u001b[39;00m\n\u001b[1;32m    157\u001b[0m \u001b[38;5;124;03mOpen `path` with `mode` and return the file object.\u001b[39;00m\n\u001b[1;32m    158\u001b[0m \n\u001b[0;32m   (...)\u001b[0m\n\u001b[1;32m    189\u001b[0m \n\u001b[1;32m    190\u001b[0m \u001b[38;5;124;03m\"\"\"\u001b[39;00m\n\u001b[1;32m    192\u001b[0m ds \u001b[38;5;241m=\u001b[39m DataSource(destpath)\n\u001b[0;32m--> 193\u001b[0m \u001b[38;5;28;01mreturn\u001b[39;00m \u001b[43mds\u001b[49m\u001b[38;5;241;43m.\u001b[39;49m\u001b[43mopen\u001b[49m\u001b[43m(\u001b[49m\u001b[43mpath\u001b[49m\u001b[43m,\u001b[49m\u001b[43m \u001b[49m\u001b[43mmode\u001b[49m\u001b[43m,\u001b[49m\u001b[43m \u001b[49m\u001b[43mencoding\u001b[49m\u001b[38;5;241;43m=\u001b[39;49m\u001b[43mencoding\u001b[49m\u001b[43m,\u001b[49m\u001b[43m \u001b[49m\u001b[43mnewline\u001b[49m\u001b[38;5;241;43m=\u001b[39;49m\u001b[43mnewline\u001b[49m\u001b[43m)\u001b[49m\n",
      "File \u001b[0;32m/opt/conda/envs/ewatercycle2/lib/python3.12/site-packages/numpy/lib/_datasource.py:533\u001b[0m, in \u001b[0;36mDataSource.open\u001b[0;34m(self, path, mode, encoding, newline)\u001b[0m\n\u001b[1;32m    530\u001b[0m     \u001b[38;5;28;01mreturn\u001b[39;00m _file_openers[ext](found, mode\u001b[38;5;241m=\u001b[39mmode,\n\u001b[1;32m    531\u001b[0m                               encoding\u001b[38;5;241m=\u001b[39mencoding, newline\u001b[38;5;241m=\u001b[39mnewline)\n\u001b[1;32m    532\u001b[0m \u001b[38;5;28;01melse\u001b[39;00m:\n\u001b[0;32m--> 533\u001b[0m     \u001b[38;5;28;01mraise\u001b[39;00m \u001b[38;5;167;01mFileNotFoundError\u001b[39;00m(\u001b[38;5;124mf\u001b[39m\u001b[38;5;124m\"\u001b[39m\u001b[38;5;132;01m{\u001b[39;00mpath\u001b[38;5;132;01m}\u001b[39;00m\u001b[38;5;124m not found.\u001b[39m\u001b[38;5;124m\"\u001b[39m)\n",
      "\u001b[0;31mFileNotFoundError\u001b[0m: /home/rhut/configFiles/calibrationcamelsgb_47001.csv not found."
     ]
    }
   ],
   "source": [
    "#load calibration constants\n",
    "#par_0 = np.loadtxt(\"/data/eurocsdms-data/calibration/calibration_\" + camelsgb_id + \".csv\", delimiter = \",\")\n",
    "par_0 = {}\n",
    "for camelsgb_id in camelsgb_ids:\n",
    "    par_0[camelsgb_id] = np.loadtxt(\"/home/rhut/configFiles/calibration\" + camelsgb_id + \".csv\", delimiter = \",\")\n",
    "\n",
    "param_names = [\"Imax\", \"Ce\", \"Sumax\", \"Beta\", \"Pmax\", \"Tlag\", \"Kf\", \"Ks\", \"FM\"]\n",
    "print(list(zip(param_names, np.round(par_0[camelsgb_id], decimals=3))))"
   ]
  },
  {
   "cell_type": "code",
   "execution_count": null,
   "id": "f70032e1-602a-4163-a338-2a3ff6264c00",
   "metadata": {
    "ExecuteTime": {
     "end_time": "2024-03-07T14:21:34.494347400Z",
     "start_time": "2024-03-07T14:21:34.484123900Z"
    }
   },
   "outputs": [],
   "source": [
    "#               Si,  Su, Sf, Ss, Sp\n",
    "s_0 = np.array([0,  100,  0,  5,  0])"
   ]
  },
  {
   "cell_type": "markdown",
   "id": "ff45d384-3549-414b-b8f2-793399161aaf",
   "metadata": {},
   "source": [
    "# Setting up the model ensemble using eWaterCycle DA\n",
    "The only difference with the previous notebook is that here we pass CMIP instead of ERA5 forcing to the model on creation"
   ]
  },
  {
   "cell_type": "code",
   "execution_count": null,
   "id": "d62a1be2-e5a1-4c82-aaf0-9ab2eeea14af",
   "metadata": {
    "ExecuteTime": {
     "end_time": "2024-03-07T14:21:34.569218800Z",
     "start_time": "2024-03-07T14:21:34.568127600Z"
    }
   },
   "outputs": [],
   "source": [
    "model = ewatercycle.models.HBV(forcing=CMIP_forcing)"
   ]
  },
  {
   "cell_type": "code",
   "execution_count": null,
   "id": "ebbd898f-b3cc-4d03-8050-21067d31c1e8",
   "metadata": {
    "ExecuteTime": {
     "end_time": "2024-03-07T14:21:34.948731400Z",
     "start_time": "2024-03-07T14:21:34.568127600Z"
    }
   },
   "outputs": [],
   "source": [
    "config_file, _ = model.setup(parameters=par_0, initial_storage=s_0)"
   ]
  },
  {
   "cell_type": "code",
   "execution_count": null,
   "id": "ba14b408-e446-45aa-b406-91dc35f40bc1",
   "metadata": {
    "ExecuteTime": {
     "end_time": "2024-03-07T14:21:34.957732500Z",
     "start_time": "2024-03-07T14:21:34.953733500Z"
    }
   },
   "outputs": [],
   "source": [
    "model.initialize(config_file)"
   ]
  },
  {
   "cell_type": "markdown",
   "id": "1e320191-4ee4-4535-94f3-05e5afef96e2",
   "metadata": {},
   "source": [
    "#### Running the model"
   ]
  },
  {
   "cell_type": "code",
   "execution_count": null,
   "id": "579fe3d8-0418-4e76-9d66-9c1a938812cc",
   "metadata": {
    "ExecuteTime": {
     "start_time": "2024-03-07T14:21:34.997729900Z"
    }
   },
   "outputs": [],
   "source": [
    "Q_m = []\n",
    "time = []\n",
    "while model.time < model.end_time:\n",
    "    model.update()\n",
    "    Q_m.append(model.get_value(\"Q\")[0])\n",
    "    time.append(pd.Timestamp(model.time_as_datetime))"
   ]
  },
  {
   "cell_type": "code",
   "execution_count": null,
   "id": "a6fd6178-1059-497a-a91f-dd0fa983df2a",
   "metadata": {
    "ExecuteTime": {
     "end_time": "2024-03-07T14:21:35.030728200Z",
     "start_time": "2024-03-07T14:21:34.997729900Z"
    }
   },
   "outputs": [],
   "source": [
    "model.finalize()"
   ]
  },
  {
   "cell_type": "markdown",
   "id": "9b88262e-c750-4f8e-a602-50c404969690",
   "metadata": {},
   "source": [
    "#### Process results"
   ]
  },
  {
   "cell_type": "code",
   "execution_count": null,
   "id": "ccde9dca-258d-409c-a602-d4abda553b32",
   "metadata": {
    "ExecuteTime": {
     "start_time": "2024-03-07T14:21:34.997729900Z"
    }
   },
   "outputs": [],
   "source": [
    "model_output = pd.Series(data=Q_m, name=\"Modelled discharge\", index=time)"
   ]
  },
  {
   "cell_type": "code",
   "execution_count": null,
   "id": "02879a8d-c55f-4a74-a6cf-8154cffb3d0b",
   "metadata": {},
   "outputs": [],
   "source": [
    "model_output.plot()\n",
    "ds_forcing[\"Q\"].plot(label=\"Observed discharge\")\n",
    "plt.legend()\n",
    "plt.ylabel(\"Discharge (mm/d)\")"
   ]
  },
  {
   "cell_type": "code",
   "execution_count": null,
   "id": "84fd5e2b",
   "metadata": {},
   "outputs": [],
   "source": []
  }
 ],
 "metadata": {
  "kernelspec": {
   "display_name": "Python 3 (ipykernel)",
   "language": "python",
   "name": "python3"
  },
  "language_info": {
   "codemirror_mode": {
    "name": "ipython",
    "version": 3
   },
   "file_extension": ".py",
   "mimetype": "text/x-python",
   "name": "python",
   "nbconvert_exporter": "python",
   "pygments_lexer": "ipython3",
   "version": "3.12.5"
  }
 },
 "nbformat": 4,
 "nbformat_minor": 5
}
