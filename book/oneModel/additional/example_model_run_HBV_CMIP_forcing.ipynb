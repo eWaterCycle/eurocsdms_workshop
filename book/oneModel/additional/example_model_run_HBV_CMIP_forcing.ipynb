{
 "cells": [
  {
   "cell_type": "markdown",
   "id": "e9cd8d85-eb4a-45d6-925a-e3e770592043",
   "metadata": {},
   "source": [
    "# Climate Change impact for River Leven at Newby Bridge using HBV model in eWaterCycle\n",
    "This notebook demonstrates how eWaterCycle is used to run a model. For the EuroCSDMS workshop we, of course, choose the beautiful region we are in as a case study. River discharge in river Leven is measured at the weirs at Newby Bridge, see the photo below. This observational data is available in the CamelsGB dataset (Coxon 20XX). The larger Caravan (collection of Camels...) dataset is available through eWaterCycle and will be used below.\n",
    "\n",
    "![image](https://upload.wikimedia.org/wikipedia/commons/7/76/Weirs_on_the_River_Leven_at_Newby_Bridge_-_geograph.org.uk_-_5455774.jpg)\n",
    "\n",
    "*Weirs on the River Leven at Newby Bridge by G Laird*\n",
    "\n",
    "As a model we choose the classic [HBV model](https://hess.copernicus.org/articles/26/1371/2022/) for its simplicity. This nicely demonstrates how eWaterCycle works. More complex models are available through eWaterCycle, however:\n",
    "\n",
    "- these often require parameter sets specific to a region\n",
    "- these are more computationally intensive to run and therefore unsuited for a short 45 minute workshop.\n",
    "\n",
    "Ask us about available models if you want to collaborate! "
   ]
  },
  {
   "cell_type": "markdown",
   "id": "e73ddde7-bde3-42e8-991a-8edd4825fd78",
   "metadata": {},
   "source": [
    "## Starting up\n",
    "To start up, we need to import eWaterCycle and a number of general Python libraries. 'Under the hood' eWaterCycle depends on a large number of other pieces of software, including but not limited to\n",
    "\n",
    "- [grpc4bmi](https://github.com/eWaterCycle/grpc4bmi), a 'translator' for BMI function calls between different programming languages and across containers. This library was build by the eWaterCycle team, but is available openly for anyone that can benefit from its functionality. \n",
    "- apptainer, a container engine that runs the model-containers\n",
    "- [ESMValTool](https://github.com/ESMValGroup/ESMValTool), a climate data processing toolbox that originally intended to post-process climate data from CMIP projects for inclusion in IPCC reports, we adopted as tool for pre-processing climate data into forcing data for hydrological models\n",
    "- Numerous hydrological models that are made available as plugins to eWaterCycle, see [eWaterCycle-leakybucket](https://github.com/eWaterCycle/ewatercycle-leakybucket) as an example. Note that plugins do not have to be owned and maintained by the eWaterCycle team: anyone with a model can make a plugin for eWaterCycle and make their model be available for others through the platform. \n",
    "\n",
    "Furthermore, eWaterCycle requires forcing data, obsrvational data and parameter sets to be available to users. If you want to install eWaterCycle on your own infrastructure, see [eWaterCycle-Infra](https://github.com/eWaterCycle/infra) or contact us."
   ]
  },
  {
   "cell_type": "code",
   "execution_count": 1,
   "id": "ec7e710a-5aa4-40f9-a1cb-151e3cddbe04",
   "metadata": {
    "ExecuteTime": {
     "end_time": "2024-03-07T14:21:32.492461800Z",
     "start_time": "2024-03-07T14:21:31.890843300Z"
    }
   },
   "outputs": [],
   "source": [
    "# general python\n",
    "import warnings\n",
    "warnings.filterwarnings(\"ignore\", category=UserWarning)\n",
    "\n",
    "import numpy as np\n",
    "from pathlib import Path\n",
    "import pandas as pd\n",
    "import matplotlib.pyplot as plt\n",
    "import xarray as xr\n",
    "\n",
    "#niceties\n",
    "from rich import print"
   ]
  },
  {
   "cell_type": "code",
   "execution_count": 2,
   "id": "4569a0f2-4bea-48cc-b5a4-ca5384e368c6",
   "metadata": {
    "ExecuteTime": {
     "end_time": "2024-03-07T14:21:34.475126400Z",
     "start_time": "2024-03-07T14:21:32.537461400Z"
    }
   },
   "outputs": [],
   "source": [
    "# general eWaterCycle\n",
    "import ewatercycle\n",
    "import ewatercycle.models\n",
    "import ewatercycle.forcing"
   ]
  },
  {
   "cell_type": "markdown",
   "id": "28ecd862-3e33-4001-9218-d025f6acc2ae",
   "metadata": {},
   "source": [
    "## Choose region and time period: \n",
    "The HBV model is a lumped hydrological model. It considers a catchment as a homogenious area and calculates the major hydrological processes in it. It requires spatially aggregated rainfall and potential evaporation as inputs (ie. forcings). To calculate its modelled discharge at the outlet of the catchment it also needs a set of parameters. Usually these paramters are calibrated using (historical) observational data, so this is also required. \n",
    "\n",
    "in eWaterCycle we provide access to the Caravan dataset, which contains all of the above data for all the catchments in the different Camels datasets. However, for two reasons, we don't use the rainfall and potential evaporation data from Caravan\n",
    "\n",
    "1. This allows us to demonstrate how to generate forcing data for any model from ERA5 (working on ERA5Land) and from CMIP data\n",
    "2. There is a known problem with the caravan evaporation data and we want to avoid using it here.\n",
    "\n",
    "We thus only use the Caravan dataset to retreive \n",
    "\n",
    "- a shapefile of the region of interest, to be used as input for generating the forcing from ERA5\n",
    "- the observational data of river discharge\n",
    "\n",
    "Using the interactive maps at [eWaterCycle caravan map](https://www.ewatercycle.org/caravan-map/) one can easily retrieve the identifier of the catchment.\n",
    "\n",
    "Note that changing the region below will work, but that the parameters that are loaded later in this notebook are calibrated specifically for this catchment!"
   ]
  },
  {
   "cell_type": "code",
   "execution_count": 3,
   "id": "a5898939-54a6-40de-8a27-bbc793536248",
   "metadata": {},
   "outputs": [],
   "source": [
    "camelsgb_id = \"camelsgb_73010\""
   ]
  },
  {
   "cell_type": "markdown",
   "id": "45b5fc86-ec75-46a8-9f40-4685444628e5",
   "metadata": {},
   "source": [
    "We have to specify start and end date of the experiment that we want to do. For now we don't fuzz with diverences between calibration and validation periods (which officially of course is very bad...)"
   ]
  },
  {
   "cell_type": "code",
   "execution_count": 4,
   "id": "03aea008-87ce-4d09-8d01-f12dfe6bb116",
   "metadata": {
    "ExecuteTime": {
     "end_time": "2024-03-07T14:21:34.567126600Z",
     "start_time": "2024-03-07T14:21:34.567126600Z"
    }
   },
   "outputs": [],
   "source": [
    "experiment_start_date = \"2025-08-01T00:00:00Z\"\n",
    "experiment_end_date = \"2030-08-31T00:00:00Z\""
   ]
  },
  {
   "cell_type": "code",
   "execution_count": 5,
   "id": "e6395412-429f-44a3-8a92-6bde7fced8d3",
   "metadata": {},
   "outputs": [],
   "source": [
    "cmip_dataset =  {\n",
    "        'project': 'CMIP6',\n",
    "        'activity': 'ScenarioMIP',\n",
    "        'exp': 'ssp585',\n",
    "        'mip': 'day',\n",
    "        'dataset': 'MPI-ESM1-2-HR',\n",
    "        'ensemble': 'r1i1p1f1',\n",
    "        'institute': 'DKRZ',\n",
    "        'grid': 'gn'}"
   ]
  },
  {
   "cell_type": "markdown",
   "id": "111bc65b-8299-43ba-95fd-e92df6b92707",
   "metadata": {},
   "source": [
    "## Set up paths\n",
    "\n",
    "Since forcing files are often re-used between experiments it is a best practice to save those intermediate files for re-use between experiments. These logical save-points in workflows are called 'rustpunten' [todo: better english]. It is important to store data in 'rustpunten' in standard formats. Working with clearly defined 'rustpunten' is a key element in the design of good workflows in general and was instrumental in designing eWaterCycle in particular. \n",
    "\n",
    "Here we set up some paths to store the forcing files we generate in your own home directory. \n",
    "\n",
    "To speed up this workshop, we have already created the forcing files in a central location, which we also create pointers to here. If you want to run for a different region, you will have to generate the forcing yourself. "
   ]
  },
  {
   "cell_type": "code",
   "execution_count": 6,
   "id": "eb5ed837-14aa-4629-b589-ffc33c24ba84",
   "metadata": {},
   "outputs": [],
   "source": [
    "forcing_path_caravan = Path.home() / \"forcing\" / camelsgb_id / \"caravan\"\n",
    "forcing_path_caravan.mkdir(exist_ok=True, parents=True)\n",
    "\n",
    "prepared_forcing_path_caravan_central = Path(\"/data/eurocsdms-data/forcing/camelsgb_73010/caravan\")\n",
    "\n",
    "forcing_path_CMIP = Path.home() / \"forcing\" / camelsgb_id / \"CMIP\"\n",
    "forcing_path_CMIP.mkdir(exist_ok=True)\n",
    "\n",
    "#prepared_forcing_path_ERA5_central = Path(\"/data/eurocsdms-data/forcing/camelsgb_73010/ERA5\")"
   ]
  },
  {
   "cell_type": "markdown",
   "id": "1171ca7e-d26a-4cbe-abb0-d741315a708c",
   "metadata": {},
   "source": [
    "## Generate or load forcing\n",
    "There are three options for creating forcing data objects:\n",
    "\n",
    "- generate from climate data such as ERA5 or CMIP. If the directory you specify as destination already contains data this trying this will throw an error!\n",
    "- load forcing data you generated previously by providing the location where it was stored\n",
    "- load forcing data someone else (such as Rolf and Bart) generated previously by providing the location where it was stored\n",
    "\n",
    "First we will create a caravan forcing object, but as mentioned above, we will only use this for the discharge observations and the shape file of the region. After generating the object we show the fields it contains and plot the discharge data. \n",
    "\n",
    "The actual forcing object we will use in this example is the ERA5 based data.\n",
    "\n",
    "For both caravan and ERA5 based forcing, only one of the three options provided below should be used, use comments to select which one you want to use."
   ]
  },
  {
   "cell_type": "code",
   "execution_count": 7,
   "id": "19641ae0",
   "metadata": {},
   "outputs": [],
   "source": [
    "# # option one: generate forcing data\n",
    "# camelsgb_forcing = ewatercycle.forcing.sources['CaravanForcing'].generate(\n",
    "#     start_time=experiment_start_date,\n",
    "#     end_time=experiment_end_date,\n",
    "#     directory=forcing_path_caravan,\n",
    "#     basin_id=camelsgb_id,\n",
    "# )"
   ]
  },
  {
   "cell_type": "code",
   "execution_count": 8,
   "id": "35875c4f-d5f0-465c-b349-82580dbd71bd",
   "metadata": {},
   "outputs": [],
   "source": [
    "# option two: load data that you or someone else generated previously\n",
    "camelsgb_forcing = ewatercycle.forcing.sources['CaravanForcing'].load(directory=prepared_forcing_path_caravan_central)"
   ]
  },
  {
   "cell_type": "code",
   "execution_count": 9,
   "id": "2b696cee-5dbe-40de-bafb-6346f6265ff3",
   "metadata": {},
   "outputs": [
    {
     "data": {
      "text/html": [
       "<pre style=\"white-space:pre;overflow-x:auto;line-height:normal;font-family:Menlo,'DejaVu Sans Mono',consolas,'Courier New',monospace\"><span style=\"color: #800080; text-decoration-color: #800080; font-weight: bold\">CaravanForcing</span><span style=\"font-weight: bold\">(</span>\n",
       "    <span style=\"color: #808000; text-decoration-color: #808000\">start_time</span>=<span style=\"color: #008000; text-decoration-color: #008000\">'1997-08-01T00:00:00Z'</span>,\n",
       "    <span style=\"color: #808000; text-decoration-color: #808000\">end_time</span>=<span style=\"color: #008000; text-decoration-color: #008000\">'2000-08-31T00:00:00Z'</span>,\n",
       "    <span style=\"color: #808000; text-decoration-color: #808000\">directory</span>=<span style=\"color: #800080; text-decoration-color: #800080; font-weight: bold\">PosixPath</span><span style=\"font-weight: bold\">(</span><span style=\"color: #008000; text-decoration-color: #008000\">'/data/eurocsdms-data/forcing/camelsgb_73010/caravan'</span><span style=\"font-weight: bold\">)</span>,\n",
       "    <span style=\"color: #808000; text-decoration-color: #808000\">shape</span>=<span style=\"color: #800080; text-decoration-color: #800080; font-weight: bold\">PosixPath</span><span style=\"font-weight: bold\">(</span><span style=\"color: #008000; text-decoration-color: #008000\">'/data/eurocsdms-data/forcing/camelsgb_73010/caravan/camelsgb_73010.shp'</span><span style=\"font-weight: bold\">)</span>,\n",
       "    <span style=\"color: #808000; text-decoration-color: #808000\">filenames</span>=<span style=\"font-weight: bold\">{</span>\n",
       "        <span style=\"color: #008000; text-decoration-color: #008000\">'tasmax'</span>: <span style=\"color: #008000; text-decoration-color: #008000\">'camelsgb_73010_1997-08-01_2000-08-31_tasmax.nc'</span>,\n",
       "        <span style=\"color: #008000; text-decoration-color: #008000\">'evspsblpot'</span>: <span style=\"color: #008000; text-decoration-color: #008000\">'camelsgb_73010_1997-08-01_2000-08-31_evspsblpot.nc'</span>,\n",
       "        <span style=\"color: #008000; text-decoration-color: #008000\">'Q'</span>: <span style=\"color: #008000; text-decoration-color: #008000\">'camelsgb_73010_1997-08-01_2000-08-31_Q.nc'</span>,\n",
       "        <span style=\"color: #008000; text-decoration-color: #008000\">'tasmin'</span>: <span style=\"color: #008000; text-decoration-color: #008000\">'camelsgb_73010_1997-08-01_2000-08-31_tasmin.nc'</span>,\n",
       "        <span style=\"color: #008000; text-decoration-color: #008000\">'pr'</span>: <span style=\"color: #008000; text-decoration-color: #008000\">'camelsgb_73010_1997-08-01_2000-08-31_pr.nc'</span>,\n",
       "        <span style=\"color: #008000; text-decoration-color: #008000\">'tas'</span>: <span style=\"color: #008000; text-decoration-color: #008000\">'camelsgb_73010_1997-08-01_2000-08-31_tas.nc'</span>\n",
       "    <span style=\"font-weight: bold\">}</span>\n",
       "<span style=\"font-weight: bold\">)</span>\n",
       "</pre>\n"
      ],
      "text/plain": [
       "\u001b[1;35mCaravanForcing\u001b[0m\u001b[1m(\u001b[0m\n",
       "    \u001b[33mstart_time\u001b[0m=\u001b[32m'1997-08-01T00:00:00Z'\u001b[0m,\n",
       "    \u001b[33mend_time\u001b[0m=\u001b[32m'2000-08-31T00:00:00Z'\u001b[0m,\n",
       "    \u001b[33mdirectory\u001b[0m=\u001b[1;35mPosixPath\u001b[0m\u001b[1m(\u001b[0m\u001b[32m'/data/eurocsdms-data/forcing/camelsgb_73010/caravan'\u001b[0m\u001b[1m)\u001b[0m,\n",
       "    \u001b[33mshape\u001b[0m=\u001b[1;35mPosixPath\u001b[0m\u001b[1m(\u001b[0m\u001b[32m'/data/eurocsdms-data/forcing/camelsgb_73010/caravan/camelsgb_73010.shp'\u001b[0m\u001b[1m)\u001b[0m,\n",
       "    \u001b[33mfilenames\u001b[0m=\u001b[1m{\u001b[0m\n",
       "        \u001b[32m'tasmax'\u001b[0m: \u001b[32m'camelsgb_73010_1997-08-01_2000-08-31_tasmax.nc'\u001b[0m,\n",
       "        \u001b[32m'evspsblpot'\u001b[0m: \u001b[32m'camelsgb_73010_1997-08-01_2000-08-31_evspsblpot.nc'\u001b[0m,\n",
       "        \u001b[32m'Q'\u001b[0m: \u001b[32m'camelsgb_73010_1997-08-01_2000-08-31_Q.nc'\u001b[0m,\n",
       "        \u001b[32m'tasmin'\u001b[0m: \u001b[32m'camelsgb_73010_1997-08-01_2000-08-31_tasmin.nc'\u001b[0m,\n",
       "        \u001b[32m'pr'\u001b[0m: \u001b[32m'camelsgb_73010_1997-08-01_2000-08-31_pr.nc'\u001b[0m,\n",
       "        \u001b[32m'tas'\u001b[0m: \u001b[32m'camelsgb_73010_1997-08-01_2000-08-31_tas.nc'\u001b[0m\n",
       "    \u001b[1m}\u001b[0m\n",
       "\u001b[1m)\u001b[0m\n"
      ]
     },
     "metadata": {},
     "output_type": "display_data"
    }
   ],
   "source": [
    "print(camelsgb_forcing)"
   ]
  },
  {
   "cell_type": "code",
   "execution_count": 10,
   "id": "cc974bcb-5489-4af6-8cf9-cc0299adab97",
   "metadata": {},
   "outputs": [],
   "source": [
    "#quick plot of the discharge data. \n",
    "ds_forcing = xr.open_dataset(camelsgb_forcing['Q'])\n",
    "# ds_forcing[\"Q\"].plot()"
   ]
  },
  {
   "cell_type": "code",
   "execution_count": 12,
   "id": "663be219-1329-4621-8950-b5ef7dde9506",
   "metadata": {},
   "outputs": [],
   "source": [
    "# option one: generate forcing:\n",
    "CMIP_forcing = ewatercycle.forcing.sources[\"LumpedMakkinkForcing\"].generate(\n",
    "   dataset=cmip_dataset,\n",
    "   start_time=experiment_start_date,\n",
    "   end_time=experiment_end_date,\n",
    "   shape=camelsgb_forcing.shape,\n",
    ")\n",
    "\n",
    "# # option two: load data that you or someone else generated previously\n",
    "# #   this is needed because ERA5 forcing data is stored deep in a sub-directory\n",
    "# load_location = prepared_forcing_path_ERA5_central / \"work\" / \"diagnostic\" / \"script\" \n",
    "# ERA5_forcing = ewatercycle.forcing.sources[\"LumpedMakkinkForcing\"].load(directory=load_location)"
   ]
  },
  {
   "cell_type": "markdown",
   "id": "4787c692-3f9c-402b-9b48-93daeeb47926",
   "metadata": {},
   "source": [
    "## Load parameters from calibration"
   ]
  },
  {
   "cell_type": "markdown",
   "id": "c4557dc0-b086-4230-8368-ef9b91cb2711",
   "metadata": {},
   "source": [
    "The HBV model contains five \"stores\" where the water is stored and nine parameters that control the flow between those stores and in and out of the model.\n",
    "We have already calibrated the model for our region of choice and saved the result in a csv file which we load below. If you have changed the region and have calibrated for your region, you need to point to your calibration results here."
   ]
  },
  {
   "cell_type": "code",
   "execution_count": 13,
   "id": "ed960ab6-b63a-4664-8306-b57c2ecf27ec",
   "metadata": {
    "ExecuteTime": {
     "end_time": "2024-03-07T14:21:34.528887900Z",
     "start_time": "2024-03-07T14:21:34.501125300Z"
    }
   },
   "outputs": [
    {
     "data": {
      "text/html": [
       "<pre style=\"white-space:pre;overflow-x:auto;line-height:normal;font-family:Menlo,'DejaVu Sans Mono',consolas,'Courier New',monospace\"><span style=\"font-weight: bold\">[</span>\n",
       "    <span style=\"font-weight: bold\">(</span><span style=\"color: #008000; text-decoration-color: #008000\">'Imax'</span>, <span style=\"color: #008080; text-decoration-color: #008080; font-weight: bold\">7.085</span><span style=\"font-weight: bold\">)</span>,\n",
       "    <span style=\"font-weight: bold\">(</span><span style=\"color: #008000; text-decoration-color: #008000\">'Ce'</span>, <span style=\"color: #008080; text-decoration-color: #008080; font-weight: bold\">0.837</span><span style=\"font-weight: bold\">)</span>,\n",
       "    <span style=\"font-weight: bold\">(</span><span style=\"color: #008000; text-decoration-color: #008000\">'Sumax'</span>, <span style=\"color: #008080; text-decoration-color: #008080; font-weight: bold\">76.373</span><span style=\"font-weight: bold\">)</span>,\n",
       "    <span style=\"font-weight: bold\">(</span><span style=\"color: #008000; text-decoration-color: #008000\">'Beta'</span>, <span style=\"color: #008080; text-decoration-color: #008080; font-weight: bold\">1.112</span><span style=\"font-weight: bold\">)</span>,\n",
       "    <span style=\"font-weight: bold\">(</span><span style=\"color: #008000; text-decoration-color: #008000\">'Pmax'</span>, <span style=\"color: #008080; text-decoration-color: #008080; font-weight: bold\">0.245</span><span style=\"font-weight: bold\">)</span>,\n",
       "    <span style=\"font-weight: bold\">(</span><span style=\"color: #008000; text-decoration-color: #008000\">'Tlag'</span>, <span style=\"color: #008080; text-decoration-color: #008080; font-weight: bold\">7.801</span><span style=\"font-weight: bold\">)</span>,\n",
       "    <span style=\"font-weight: bold\">(</span><span style=\"color: #008000; text-decoration-color: #008000\">'Kf'</span>, <span style=\"color: #008080; text-decoration-color: #008080; font-weight: bold\">0.096</span><span style=\"font-weight: bold\">)</span>,\n",
       "    <span style=\"font-weight: bold\">(</span><span style=\"color: #008000; text-decoration-color: #008000\">'Ks'</span>, <span style=\"color: #008080; text-decoration-color: #008080; font-weight: bold\">0.003</span><span style=\"font-weight: bold\">)</span>,\n",
       "    <span style=\"font-weight: bold\">(</span><span style=\"color: #008000; text-decoration-color: #008000\">'FM'</span>, <span style=\"color: #008080; text-decoration-color: #008080; font-weight: bold\">0.226</span><span style=\"font-weight: bold\">)</span>\n",
       "<span style=\"font-weight: bold\">]</span>\n",
       "</pre>\n"
      ],
      "text/plain": [
       "\u001b[1m[\u001b[0m\n",
       "    \u001b[1m(\u001b[0m\u001b[32m'Imax'\u001b[0m, \u001b[1;36m7.085\u001b[0m\u001b[1m)\u001b[0m,\n",
       "    \u001b[1m(\u001b[0m\u001b[32m'Ce'\u001b[0m, \u001b[1;36m0.837\u001b[0m\u001b[1m)\u001b[0m,\n",
       "    \u001b[1m(\u001b[0m\u001b[32m'Sumax'\u001b[0m, \u001b[1;36m76.373\u001b[0m\u001b[1m)\u001b[0m,\n",
       "    \u001b[1m(\u001b[0m\u001b[32m'Beta'\u001b[0m, \u001b[1;36m1.112\u001b[0m\u001b[1m)\u001b[0m,\n",
       "    \u001b[1m(\u001b[0m\u001b[32m'Pmax'\u001b[0m, \u001b[1;36m0.245\u001b[0m\u001b[1m)\u001b[0m,\n",
       "    \u001b[1m(\u001b[0m\u001b[32m'Tlag'\u001b[0m, \u001b[1;36m7.801\u001b[0m\u001b[1m)\u001b[0m,\n",
       "    \u001b[1m(\u001b[0m\u001b[32m'Kf'\u001b[0m, \u001b[1;36m0.096\u001b[0m\u001b[1m)\u001b[0m,\n",
       "    \u001b[1m(\u001b[0m\u001b[32m'Ks'\u001b[0m, \u001b[1;36m0.003\u001b[0m\u001b[1m)\u001b[0m,\n",
       "    \u001b[1m(\u001b[0m\u001b[32m'FM'\u001b[0m, \u001b[1;36m0.226\u001b[0m\u001b[1m)\u001b[0m\n",
       "\u001b[1m]\u001b[0m\n"
      ]
     },
     "metadata": {},
     "output_type": "display_data"
    }
   ],
   "source": [
    "#load calibration constants\n",
    "#par_0 = np.loadtxt(\"/data/eurocsdms-data/calibration/calibration_\" + camelsgb_id + \".csv\", delimiter = \",\")\n",
    "par_0 = np.loadtxt(\"/home/rhut/configFiles/calibration\" + camelsgb_id + \".csv\", delimiter = \",\")\n",
    "\n",
    "param_names = [\"Imax\", \"Ce\", \"Sumax\", \"Beta\", \"Pmax\", \"Tlag\", \"Kf\", \"Ks\", \"FM\"]\n",
    "print(list(zip(param_names, np.round(par_0, decimals=3))))"
   ]
  },
  {
   "cell_type": "markdown",
   "id": "324ab8b0-947b-4116-84d9-e476d46ddd98",
   "metadata": {},
   "source": [
    "For the storages we can specify an array of starting values. If you don't the model will start 'empty' and needs some timesteps to 'fill up'. Especially for the rootzone storage it helps to not start empty. Note that all units are in mm: <br>"
   ]
  },
  {
   "cell_type": "code",
   "execution_count": 14,
   "id": "f70032e1-602a-4163-a338-2a3ff6264c00",
   "metadata": {
    "ExecuteTime": {
     "end_time": "2024-03-07T14:21:34.494347400Z",
     "start_time": "2024-03-07T14:21:34.484123900Z"
    }
   },
   "outputs": [],
   "source": [
    "#               Si,  Su, Sf, Ss, Sp\n",
    "s_0 = np.array([0,  100,  0,  5,  0])"
   ]
  },
  {
   "cell_type": "markdown",
   "id": "ff45d384-3549-414b-b8f2-793399161aaf",
   "metadata": {},
   "source": [
    "## Setting up the model\n",
    "Below we show the core use of eWaterCycle: to users models are objects. We stay as close as possible to the standard BMI functions, but make sure that under the hood eWaterCycle makes everything run. Getting a model to run requires three steps:\n",
    "\n",
    "1. creating a model object, an instance of the specific model class. This is provided by the different plugins. At the point of creation, the forcing object that will be used need to be passed to the model:"
   ]
  },
  {
   "cell_type": "code",
   "execution_count": 15,
   "id": "d62a1be2-e5a1-4c82-aaf0-9ab2eeea14af",
   "metadata": {
    "ExecuteTime": {
     "end_time": "2024-03-07T14:21:34.569218800Z",
     "start_time": "2024-03-07T14:21:34.568127600Z"
    }
   },
   "outputs": [],
   "source": [
    "model = ewatercycle.models.HBV(forcing=CMIP_forcing)"
   ]
  },
  {
   "cell_type": "markdown",
   "id": "60c0bd34",
   "metadata": {},
   "source": [
    "2. creating a configuration file that contains all the information the model needs to initialize itself.\n",
    "   The format of the configuration file is very model specific. For example, the HBV configuration file contains information on:\n",
    "  - the location of forcing files\n",
    "  - the values of parameters and initial storages"
   ]
  },
  {
   "cell_type": "code",
   "execution_count": 16,
   "id": "ebbd898f-b3cc-4d03-8050-21067d31c1e8",
   "metadata": {
    "ExecuteTime": {
     "end_time": "2024-03-07T14:21:34.948731400Z",
     "start_time": "2024-03-07T14:21:34.568127600Z"
    }
   },
   "outputs": [],
   "source": [
    "config_file, _ = model.setup(parameters=par_0, initial_storage=s_0)"
   ]
  },
  {
   "cell_type": "markdown",
   "id": "cdbb274a",
   "metadata": {},
   "source": [
    "3. initializing starts the model container, creates all variables, and basically gets the model primed to start running."
   ]
  },
  {
   "cell_type": "code",
   "execution_count": 17,
   "id": "ba14b408-e446-45aa-b406-91dc35f40bc1",
   "metadata": {
    "ExecuteTime": {
     "end_time": "2024-03-07T14:21:34.957732500Z",
     "start_time": "2024-03-07T14:21:34.953733500Z"
    }
   },
   "outputs": [],
   "source": [
    "model.initialize(config_file)"
   ]
  },
  {
   "cell_type": "markdown",
   "id": "1e320191-4ee4-4535-94f3-05e5afef96e2",
   "metadata": {},
   "source": [
    "## Running the model\n",
    "The basic loop that runs the model calls the ```model.update()``` to have the model progress one timestep and ```model.get_value()``` to extract information of interest. More complex experiment can interact with the model using, for example, ```model.set_value()``` to change values. In this way \n",
    "\n",
    "- multiple models can interact (including be coupled)\n",
    "- models can be adjusted during runtime to incoming observations (ie. data assimilation)\n",
    "- Effects not covered by the model can be calculated seperatly and included to create 'what if' experiments.\n",
    "- and many more applications."
   ]
  },
  {
   "cell_type": "code",
   "execution_count": 18,
   "id": "579fe3d8-0418-4e76-9d66-9c1a938812cc",
   "metadata": {
    "ExecuteTime": {
     "start_time": "2024-03-07T14:21:34.997729900Z"
    }
   },
   "outputs": [],
   "source": [
    "Q_m = []\n",
    "time = []\n",
    "while model.time < model.end_time:\n",
    "    model.update()\n",
    "    Q_m.append(model.get_value(\"Q\")[0])\n",
    "    time.append(pd.Timestamp(model.time_as_datetime))"
   ]
  },
  {
   "cell_type": "markdown",
   "id": "b2a78bda-4e19-474f-8367-acec10c50f52",
   "metadata": {},
   "source": [
    "After running the model we need to call ```model.finalize()``` to shut everything down, including the container. If we don't do this, the container will continue to be active, eating up system memory."
   ]
  },
  {
   "cell_type": "code",
   "execution_count": 19,
   "id": "a6fd6178-1059-497a-a91f-dd0fa983df2a",
   "metadata": {
    "ExecuteTime": {
     "end_time": "2024-03-07T14:21:35.030728200Z",
     "start_time": "2024-03-07T14:21:34.997729900Z"
    }
   },
   "outputs": [],
   "source": [
    "model.finalize()"
   ]
  },
  {
   "cell_type": "markdown",
   "id": "9b88262e-c750-4f8e-a602-50c404969690",
   "metadata": {},
   "source": [
    "## Process results\n",
    "Finally, we use standard python libraries to visualize the results. We put the model output into a pandas Series to make plotting easier."
   ]
  },
  {
   "cell_type": "code",
   "execution_count": 20,
   "id": "ccde9dca-258d-409c-a602-d4abda553b32",
   "metadata": {
    "ExecuteTime": {
     "start_time": "2024-03-07T14:21:34.997729900Z"
    }
   },
   "outputs": [],
   "source": [
    "model_output = pd.Series(data=Q_m, name=\"Modelled discharge\", index=time)"
   ]
  },
  {
   "cell_type": "code",
   "execution_count": 21,
   "id": "02879a8d-c55f-4a74-a6cf-8154cffb3d0b",
   "metadata": {},
   "outputs": [
    {
     "data": {
      "text/plain": [
       "Text(0, 0.5, 'Discharge (mm/d)')"
      ]
     },
     "execution_count": 21,
     "metadata": {},
     "output_type": "execute_result"
    },
    {
     "data": {
      "image/png": "[encoded data removed]",
      "text/plain": [
       "<Figure size 640x480 with 1 Axes>"
      ]
     },
     "metadata": {},
     "output_type": "display_data"
    }
   ],
   "source": [
    "model_output.plot()\n",
    "ds_forcing[\"Q\"].plot(label=\"Observed discharge\")\n",
    "plt.legend()\n",
    "plt.ylabel(\"Discharge (mm/d)\")"
   ]
  },
  {
   "cell_type": "code",
   "execution_count": null,
   "id": "84fd5e2b",
   "metadata": {},
   "outputs": [],
   "source": []
  }
 ],
 "metadata": {
  "kernelspec": {
   "display_name": "Python 3 (ipykernel)",
   "language": "python",
   "name": "python3"
  },
  "language_info": {
   "codemirror_mode": {
    "name": "ipython",
    "version": 3
   },
   "file_extension": ".py",
   "mimetype": "text/x-python",
   "name": "python",
   "nbconvert_exporter": "python",
   "pygments_lexer": "ipython3",
   "version": "3.12.5"
  }
 },
 "nbformat": 4,
 "nbformat_minor": 5
}
